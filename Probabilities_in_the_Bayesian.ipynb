{
  "nbformat": 4,
  "nbformat_minor": 0,
  "metadata": {
    "colab": {
      "provenance": []
    },
    "kernelspec": {
      "name": "python3",
      "display_name": "Python 3"
    },
    "language_info": {
      "name": "python"
    }
  },
  "cells": [
    {
      "cell_type": "markdown",
      "source": [
        "Bayes Theorem\n",
        "\n",
        "\n",
        "P(A|B) = P(B|A) P(A) / P(B)"
      ],
      "metadata": {
        "id": "1lc9MUDGWV6U"
      }
    },
    {
      "cell_type": "markdown",
      "source": [
        "We have 2 buckets A and B. In bucket A we have 30 blue balls and 10 yellow balls, while inn bucket B we have 20 blue and 20 yellow balls. We are required to choose one ball. What is the chance that we choose bucket A?"
      ],
      "metadata": {
        "id": "PBJNmC67OORP"
      }
    },
    {
      "cell_type": "code",
      "execution_count": null,
      "metadata": {
        "id": "hutddl1qOKYb"
      },
      "outputs": [],
      "source": [
        "import numpy as np\n",
        "import pandas as pd\n",
        "import matplotlib.pyplot as plt\n",
        "import seaborn as sns"
      ]
    },
    {
      "cell_type": "code",
      "source": [
        "hypos ='Bucket A','Bucket B'\n",
        "\n",
        "probs= 1/2,1/2"
      ],
      "metadata": {
        "id": "vDUZG5XpO8ge"
      },
      "execution_count": null,
      "outputs": []
    },
    {
      "cell_type": "code",
      "source": [
        "prior = pd.Series(probs, hypos)\n",
        "print(prior)"
      ],
      "metadata": {
        "colab": {
          "base_uri": "https://localhost:8080/"
        },
        "id": "YATbCDGNPUy1",
        "outputId": "8edc2dd9-b4f9-493f-c1b5-c6d399470d9e"
      },
      "execution_count": null,
      "outputs": [
        {
          "output_type": "stream",
          "name": "stdout",
          "text": [
            "Bucket A    0.5\n",
            "Bucket B    0.5\n",
            "dtype: float64\n"
          ]
        }
      ]
    },
    {
      "cell_type": "code",
      "source": [
        "likehood = 3/4, 1/2\n",
        "unnorm = prior * likehood\n",
        "print (unnorm)"
      ],
      "metadata": {
        "colab": {
          "base_uri": "https://localhost:8080/"
        },
        "id": "kGVHTXVWPgbe",
        "outputId": "d624b696-13f2-47ca-aa30-ed3437c29093"
      },
      "execution_count": null,
      "outputs": [
        {
          "output_type": "stream",
          "name": "stdout",
          "text": [
            "Bucket A    0.375\n",
            "Bucket B    0.250\n",
            "dtype: float64\n"
          ]
        }
      ]
    },
    {
      "cell_type": "code",
      "source": [
        "prob_data = unnorm.sum()\n",
        "prob_data"
      ],
      "metadata": {
        "colab": {
          "base_uri": "https://localhost:8080/"
        },
        "id": "U3KFoR0nRC-t",
        "outputId": "bb70a38e-6c9a-4521-a825-d99087b6fb8e"
      },
      "execution_count": null,
      "outputs": [
        {
          "output_type": "execute_result",
          "data": {
            "text/plain": [
              "0.625"
            ]
          },
          "metadata": {},
          "execution_count": 10
        }
      ]
    },
    {
      "cell_type": "code",
      "source": [
        "posterior = unnorm / prob_data"
      ],
      "metadata": {
        "id": "VcU-rYrxSnCE"
      },
      "execution_count": null,
      "outputs": []
    },
    {
      "cell_type": "code",
      "source": [
        "posterior"
      ],
      "metadata": {
        "colab": {
          "base_uri": "https://localhost:8080/"
        },
        "id": "qEbpUIBBSwQU",
        "outputId": "e84de8f8-9593-44b4-80c5-9afced098018"
      },
      "execution_count": null,
      "outputs": [
        {
          "output_type": "execute_result",
          "data": {
            "text/plain": [
              "Bucket A    0.6\n",
              "Bucket B    0.4\n",
              "dtype: float64"
            ]
          },
          "metadata": {},
          "execution_count": 12
        }
      ]
    },
    {
      "cell_type": "markdown",
      "source": [
        "Here from the result, we can say the posterior probability of choosing bucket A with the blue ball 0.6"
      ],
      "metadata": {
        "id": "UaKwGZwiT3F-"
      }
    },
    {
      "cell_type": "markdown",
      "source": [
        "Now, what is the probability that both times we chose bucket A to pick the ball ??????"
      ],
      "metadata": {
        "id": "ifXgCG89UJqH"
      }
    },
    {
      "cell_type": "code",
      "source": [
        "prior = posterior\n",
        "print(prior)"
      ],
      "metadata": {
        "colab": {
          "base_uri": "https://localhost:8080/"
        },
        "id": "GNPcr5OkS0Md",
        "outputId": "8e0e9445-556f-4d0e-c19a-cbab086c11c7"
      },
      "execution_count": null,
      "outputs": [
        {
          "output_type": "stream",
          "name": "stdout",
          "text": [
            "Bucket A    0.6\n",
            "Bucket B    0.4\n",
            "dtype: float64\n"
          ]
        }
      ]
    },
    {
      "cell_type": "code",
      "source": [
        "likehood = 3/4, 1/2\n",
        "unnorm = prior * likehood\n",
        "print(unnorm)"
      ],
      "metadata": {
        "colab": {
          "base_uri": "https://localhost:8080/"
        },
        "id": "ZVK8UCQ5TbTo",
        "outputId": "29b2d248-f879-4b84-e36f-4699e6af6ec7"
      },
      "execution_count": null,
      "outputs": [
        {
          "output_type": "stream",
          "name": "stdout",
          "text": [
            "Bucket A    0.45\n",
            "Bucket B    0.20\n",
            "dtype: float64\n"
          ]
        }
      ]
    },
    {
      "cell_type": "code",
      "source": [
        "prob_data = unnorm.sum()\n",
        "prob_data\n"
      ],
      "metadata": {
        "colab": {
          "base_uri": "https://localhost:8080/"
        },
        "id": "Q2mXudO1Tr5W",
        "outputId": "0e7d5eed-c709-4730-dc66-077dd4f5c9bf"
      },
      "execution_count": null,
      "outputs": [
        {
          "output_type": "execute_result",
          "data": {
            "text/plain": [
              "0.6499999999999999"
            ]
          },
          "metadata": {},
          "execution_count": 15
        }
      ]
    },
    {
      "cell_type": "code",
      "source": [
        "posterior = unnorm / prob_data\n",
        "print(posterior)"
      ],
      "metadata": {
        "colab": {
          "base_uri": "https://localhost:8080/"
        },
        "id": "OBU7JMdAUkUd",
        "outputId": "31c06537-1676-467a-c083-a879279cb840"
      },
      "execution_count": null,
      "outputs": [
        {
          "output_type": "stream",
          "name": "stdout",
          "text": [
            "Bucket A    0.692308\n",
            "Bucket B    0.307692\n",
            "dtype: float64\n"
          ]
        }
      ]
    },
    {
      "cell_type": "markdown",
      "source": [
        "Here we can see that the posterior probability for bucket AA in the second attempt is 0.6923"
      ],
      "metadata": {
        "id": "aNI6PmTlU-cx"
      }
    },
    {
      "cell_type": "code",
      "source": [],
      "metadata": {
        "id": "1YxslMo0U3eY"
      },
      "execution_count": null,
      "outputs": []
    }
  ]
}