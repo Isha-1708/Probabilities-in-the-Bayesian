{
 "cells": [
  {
   "cell_type": "code",
   "execution_count": null,
   "id": "0316cd42",
   "metadata": {
    "_cell_guid": "b1076dfc-b9ad-4769-8c92-a6c4dae69d19",
    "_uuid": "8f2839f25d086af736a60e9eeb907d3b93b6e0e5",
    "execution": {
     "iopub.execute_input": "2023-08-20T06:07:17.502366Z",
     "iopub.status.busy": "2023-08-20T06:07:17.501993Z",
     "iopub.status.idle": "2023-08-20T06:07:17.522333Z",
     "shell.execute_reply": "2023-08-20T06:07:17.520908Z"
    },
    "papermill": {
     "duration": 0.033091,
     "end_time": "2023-08-20T06:07:17.524794",
     "exception": false,
     "start_time": "2023-08-20T06:07:17.491703",
     "status": "completed"
    },
    "tags": []
   },
   "outputs": [],
   "source": [
    "# This Python 3 environment comes with many helpful analytics libraries installed\n",
    "# It is defined by the kaggle/python Docker image: https://github.com/kaggle/docker-python\n",
    "# For example, here's several helpful packages to load\n",
    "\n",
    "import numpy as np # linear algebra\n",
    "import pandas as pd # data processing, CSV file I/O (e.g. pd.read_csv)\n",
    "\n",
    "# Input data files are available in the read-only \"../input/\" directory\n",
    "# For example, running this (by clicking run or pressing Shift+Enter) will list all files under the input directory\n",
    "\n",
    "import os\n",
    "for dirname, _, filenames in os.walk('/kaggle/input'):\n",
    "    for filename in filenames:\n",
    "        print(os.path.join(dirname, filename))\n",
    "\n",
    "# You can write up to 20GB to the current directory (/kaggle/working/) that gets preserved as output when you create a version using \"Save & Run All\" \n",
    "# You can also write temporary files to /kaggle/temp/, but they won't be saved outside of the current session"
   ]
  },
  {
   "cell_type": "code",
   "execution_count": null,
   "id": "c90a0e3e",
   "metadata": {
    "execution": {
     "iopub.execute_input": "2023-08-20T06:07:17.542508Z",
     "iopub.status.busy": "2023-08-20T06:07:17.542104Z",
     "iopub.status.idle": "2023-08-20T06:07:17.566829Z",
     "shell.execute_reply": "2023-08-20T06:07:17.565676Z"
    },
    "papermill": {
     "duration": 0.036699,
     "end_time": "2023-08-20T06:07:17.569571",
     "exception": false,
     "start_time": "2023-08-20T06:07:17.532872",
     "status": "completed"
    },
    "tags": []
   },
   "outputs": [],
   "source": [
    "df = pd.read_csv('/kaggle/input/graduate-admissions/Admission_Predict_Ver1.1.csv')"
   ]
  },
  {
   "cell_type": "code",
   "execution_count": null,
   "id": "937a38d6",
   "metadata": {
    "execution": {
     "iopub.execute_input": "2023-08-20T06:07:17.587780Z",
     "iopub.status.busy": "2023-08-20T06:07:17.586681Z",
     "iopub.status.idle": "2023-08-20T06:07:17.611864Z",
     "shell.execute_reply": "2023-08-20T06:07:17.610720Z"
    },
    "papermill": {
     "duration": 0.036461,
     "end_time": "2023-08-20T06:07:17.614065",
     "exception": false,
     "start_time": "2023-08-20T06:07:17.577604",
     "status": "completed"
    },
    "tags": []
   },
   "outputs": [],
   "source": [
    "df.head()"
   ]
  },
  {
   "cell_type": "code",
   "execution_count": null,
   "id": "fb2133b3",
   "metadata": {
    "execution": {
     "iopub.execute_input": "2023-08-20T06:07:17.632511Z",
     "iopub.status.busy": "2023-08-20T06:07:17.631443Z",
     "iopub.status.idle": "2023-08-20T06:07:17.639319Z",
     "shell.execute_reply": "2023-08-20T06:07:17.637637Z"
    },
    "papermill": {
     "duration": 0.019936,
     "end_time": "2023-08-20T06:07:17.641974",
     "exception": false,
     "start_time": "2023-08-20T06:07:17.622038",
     "status": "completed"
    },
    "tags": []
   },
   "outputs": [],
   "source": [
    "df.shape"
   ]
  },
  {
   "cell_type": "code",
   "execution_count": null,
   "id": "17bcd6d9",
   "metadata": {
    "execution": {
     "iopub.execute_input": "2023-08-20T06:07:17.664410Z",
     "iopub.status.busy": "2023-08-20T06:07:17.663644Z",
     "iopub.status.idle": "2023-08-20T06:07:17.691938Z",
     "shell.execute_reply": "2023-08-20T06:07:17.690679Z"
    },
    "papermill": {
     "duration": 0.040791,
     "end_time": "2023-08-20T06:07:17.694517",
     "exception": false,
     "start_time": "2023-08-20T06:07:17.653726",
     "status": "completed"
    },
    "tags": []
   },
   "outputs": [],
   "source": [
    "df.info()"
   ]
  },
  {
   "cell_type": "code",
   "execution_count": null,
   "id": "9eb0c66e",
   "metadata": {
    "execution": {
     "iopub.execute_input": "2023-08-20T06:07:17.713611Z",
     "iopub.status.busy": "2023-08-20T06:07:17.713233Z",
     "iopub.status.idle": "2023-08-20T06:07:17.724022Z",
     "shell.execute_reply": "2023-08-20T06:07:17.722839Z"
    },
    "papermill": {
     "duration": 0.022762,
     "end_time": "2023-08-20T06:07:17.726291",
     "exception": false,
     "start_time": "2023-08-20T06:07:17.703529",
     "status": "completed"
    },
    "tags": []
   },
   "outputs": [],
   "source": [
    "df.duplicated().sum()"
   ]
  },
  {
   "cell_type": "code",
   "execution_count": null,
   "id": "623ca244",
   "metadata": {
    "execution": {
     "iopub.execute_input": "2023-08-20T06:07:17.748555Z",
     "iopub.status.busy": "2023-08-20T06:07:17.748028Z",
     "iopub.status.idle": "2023-08-20T06:07:17.756149Z",
     "shell.execute_reply": "2023-08-20T06:07:17.755040Z"
    },
    "papermill": {
     "duration": 0.022772,
     "end_time": "2023-08-20T06:07:17.760212",
     "exception": false,
     "start_time": "2023-08-20T06:07:17.737440",
     "status": "completed"
    },
    "tags": []
   },
   "outputs": [],
   "source": [
    "df.drop(columns=[\"Serial No.\"],inplace=True)"
   ]
  },
  {
   "cell_type": "code",
   "execution_count": null,
   "id": "c0ae3a71",
   "metadata": {
    "execution": {
     "iopub.execute_input": "2023-08-20T06:07:17.780538Z",
     "iopub.status.busy": "2023-08-20T06:07:17.779776Z",
     "iopub.status.idle": "2023-08-20T06:07:17.796994Z",
     "shell.execute_reply": "2023-08-20T06:07:17.796124Z"
    },
    "papermill": {
     "duration": 0.029954,
     "end_time": "2023-08-20T06:07:17.798955",
     "exception": false,
     "start_time": "2023-08-20T06:07:17.769001",
     "status": "completed"
    },
    "tags": []
   },
   "outputs": [],
   "source": [
    "df.head()"
   ]
  },
  {
   "cell_type": "code",
   "execution_count": null,
   "id": "e879dd89",
   "metadata": {
    "execution": {
     "iopub.execute_input": "2023-08-20T06:07:17.818452Z",
     "iopub.status.busy": "2023-08-20T06:07:17.817663Z",
     "iopub.status.idle": "2023-08-20T06:07:17.822700Z",
     "shell.execute_reply": "2023-08-20T06:07:17.821827Z"
    },
    "papermill": {
     "duration": 0.017119,
     "end_time": "2023-08-20T06:07:17.824801",
     "exception": false,
     "start_time": "2023-08-20T06:07:17.807682",
     "status": "completed"
    },
    "tags": []
   },
   "outputs": [],
   "source": [
    "X = df.iloc[:,0:-1]\n",
    "Y = df.iloc[:,-1]"
   ]
  },
  {
   "cell_type": "code",
   "execution_count": null,
   "id": "68ade8e7",
   "metadata": {
    "execution": {
     "iopub.execute_input": "2023-08-20T06:07:17.844618Z",
     "iopub.status.busy": "2023-08-20T06:07:17.843912Z",
     "iopub.status.idle": "2023-08-20T06:07:17.860458Z",
     "shell.execute_reply": "2023-08-20T06:07:17.859031Z"
    },
    "papermill": {
     "duration": 0.029272,
     "end_time": "2023-08-20T06:07:17.862846",
     "exception": false,
     "start_time": "2023-08-20T06:07:17.833574",
     "status": "completed"
    },
    "tags": []
   },
   "outputs": [],
   "source": [
    "X"
   ]
  },
  {
   "cell_type": "code",
   "execution_count": null,
   "id": "f0b34aec",
   "metadata": {
    "execution": {
     "iopub.execute_input": "2023-08-20T06:07:17.882468Z",
     "iopub.status.busy": "2023-08-20T06:07:17.882043Z",
     "iopub.status.idle": "2023-08-20T06:07:17.890597Z",
     "shell.execute_reply": "2023-08-20T06:07:17.889514Z"
    },
    "papermill": {
     "duration": 0.020973,
     "end_time": "2023-08-20T06:07:17.892784",
     "exception": false,
     "start_time": "2023-08-20T06:07:17.871811",
     "status": "completed"
    },
    "tags": []
   },
   "outputs": [],
   "source": [
    "Y"
   ]
  },
  {
   "cell_type": "code",
   "execution_count": null,
   "id": "ed7efbdf",
   "metadata": {
    "execution": {
     "iopub.execute_input": "2023-08-20T06:07:17.913017Z",
     "iopub.status.busy": "2023-08-20T06:07:17.912585Z",
     "iopub.status.idle": "2023-08-20T06:07:19.241580Z",
     "shell.execute_reply": "2023-08-20T06:07:19.240633Z"
    },
    "papermill": {
     "duration": 1.342051,
     "end_time": "2023-08-20T06:07:19.244033",
     "exception": false,
     "start_time": "2023-08-20T06:07:17.901982",
     "status": "completed"
    },
    "tags": []
   },
   "outputs": [],
   "source": [
    "from sklearn.model_selection import train_test_split\n",
    "X_train,X_test,Y_train,Y_test = train_test_split(X,Y,test_size=0.2)"
   ]
  },
  {
   "cell_type": "code",
   "execution_count": null,
   "id": "a60a0771",
   "metadata": {
    "execution": {
     "iopub.execute_input": "2023-08-20T06:07:19.264397Z",
     "iopub.status.busy": "2023-08-20T06:07:19.263976Z",
     "iopub.status.idle": "2023-08-20T06:07:19.282027Z",
     "shell.execute_reply": "2023-08-20T06:07:19.280991Z"
    },
    "papermill": {
     "duration": 0.030805,
     "end_time": "2023-08-20T06:07:19.284217",
     "exception": false,
     "start_time": "2023-08-20T06:07:19.253412",
     "status": "completed"
    },
    "tags": []
   },
   "outputs": [],
   "source": [
    "X_train"
   ]
  },
  {
   "cell_type": "code",
   "execution_count": null,
   "id": "1bc52d42",
   "metadata": {
    "execution": {
     "iopub.execute_input": "2023-08-20T06:07:19.304444Z",
     "iopub.status.busy": "2023-08-20T06:07:19.304047Z",
     "iopub.status.idle": "2023-08-20T06:07:19.315461Z",
     "shell.execute_reply": "2023-08-20T06:07:19.314381Z"
    },
    "papermill": {
     "duration": 0.024328,
     "end_time": "2023-08-20T06:07:19.317946",
     "exception": false,
     "start_time": "2023-08-20T06:07:19.293618",
     "status": "completed"
    },
    "tags": []
   },
   "outputs": [],
   "source": [
    "from sklearn.preprocessing import MinMaxScaler\n",
    "scaler = MinMaxScaler()\n",
    "\n",
    "X_train_scaled = scaler.fit_transform(X_train)\n",
    "X_test_scaled = scaler.transform(X_test)\n"
   ]
  },
  {
   "cell_type": "code",
   "execution_count": null,
   "id": "eabbc127",
   "metadata": {
    "execution": {
     "iopub.execute_input": "2023-08-20T06:07:19.338457Z",
     "iopub.status.busy": "2023-08-20T06:07:19.338010Z",
     "iopub.status.idle": "2023-08-20T06:07:19.345736Z",
     "shell.execute_reply": "2023-08-20T06:07:19.344696Z"
    },
    "papermill": {
     "duration": 0.020247,
     "end_time": "2023-08-20T06:07:19.347753",
     "exception": false,
     "start_time": "2023-08-20T06:07:19.327506",
     "status": "completed"
    },
    "tags": []
   },
   "outputs": [],
   "source": [
    "X_train_scaled"
   ]
  },
  {
   "cell_type": "code",
   "execution_count": null,
   "id": "662e3d6a",
   "metadata": {
    "execution": {
     "iopub.execute_input": "2023-08-20T06:07:19.368212Z",
     "iopub.status.busy": "2023-08-20T06:07:19.367844Z",
     "iopub.status.idle": "2023-08-20T06:07:19.380002Z",
     "shell.execute_reply": "2023-08-20T06:07:19.378883Z"
    },
    "papermill": {
     "duration": 0.025337,
     "end_time": "2023-08-20T06:07:19.382498",
     "exception": false,
     "start_time": "2023-08-20T06:07:19.357161",
     "status": "completed"
    },
    "tags": []
   },
   "outputs": [],
   "source": [
    "X_test_scaled"
   ]
  },
  {
   "cell_type": "markdown",
   "id": "acb628ad",
   "metadata": {
    "papermill": {
     "duration": 0.009618,
     "end_time": "2023-08-20T06:07:19.402119",
     "exception": false,
     "start_time": "2023-08-20T06:07:19.392501",
     "status": "completed"
    },
    "tags": []
   },
   "source": [
    "To build NN Architecture \n",
    "Import Libraries"
   ]
  },
  {
   "cell_type": "code",
   "execution_count": null,
   "id": "ccfc7ff2",
   "metadata": {
    "execution": {
     "iopub.execute_input": "2023-08-20T06:07:19.425024Z",
     "iopub.status.busy": "2023-08-20T06:07:19.423878Z",
     "iopub.status.idle": "2023-08-20T06:07:29.266038Z",
     "shell.execute_reply": "2023-08-20T06:07:29.264716Z"
    },
    "papermill": {
     "duration": 9.856787,
     "end_time": "2023-08-20T06:07:29.269018",
     "exception": false,
     "start_time": "2023-08-20T06:07:19.412231",
     "status": "completed"
    },
    "tags": []
   },
   "outputs": [],
   "source": [
    "import tensorflow\n",
    "from tensorflow import keras\n",
    "from keras import Sequential\n",
    "from keras.layers import Dense "
   ]
  },
  {
   "cell_type": "code",
   "execution_count": null,
   "id": "927c8bfd",
   "metadata": {
    "execution": {
     "iopub.execute_input": "2023-08-20T06:07:29.297069Z",
     "iopub.status.busy": "2023-08-20T06:07:29.295799Z",
     "iopub.status.idle": "2023-08-20T06:07:29.412567Z",
     "shell.execute_reply": "2023-08-20T06:07:29.411571Z"
    },
    "papermill": {
     "duration": 0.134787,
     "end_time": "2023-08-20T06:07:29.415892",
     "exception": false,
     "start_time": "2023-08-20T06:07:29.281105",
     "status": "completed"
    },
    "tags": []
   },
   "outputs": [],
   "source": [
    "model = Sequential()"
   ]
  },
  {
   "cell_type": "code",
   "execution_count": null,
   "id": "1419a5f4",
   "metadata": {
    "execution": {
     "iopub.execute_input": "2023-08-20T06:07:29.446944Z",
     "iopub.status.busy": "2023-08-20T06:07:29.445948Z",
     "iopub.status.idle": "2023-08-20T06:07:29.533517Z",
     "shell.execute_reply": "2023-08-20T06:07:29.532503Z"
    },
    "papermill": {
     "duration": 0.104997,
     "end_time": "2023-08-20T06:07:29.536453",
     "exception": false,
     "start_time": "2023-08-20T06:07:29.431456",
     "status": "completed"
    },
    "tags": []
   },
   "outputs": [],
   "source": [
    "model.add(Dense(7,activation = 'relu',input_dim=7))\n",
    "model.add(Dense(1,activation = 'linear'))"
   ]
  },
  {
   "cell_type": "code",
   "execution_count": null,
   "id": "7cb2e521",
   "metadata": {
    "execution": {
     "iopub.execute_input": "2023-08-20T06:07:29.558978Z",
     "iopub.status.busy": "2023-08-20T06:07:29.558579Z",
     "iopub.status.idle": "2023-08-20T06:07:29.579764Z",
     "shell.execute_reply": "2023-08-20T06:07:29.578281Z"
    },
    "papermill": {
     "duration": 0.037231,
     "end_time": "2023-08-20T06:07:29.583993",
     "exception": false,
     "start_time": "2023-08-20T06:07:29.546762",
     "status": "completed"
    },
    "tags": []
   },
   "outputs": [],
   "source": [
    "model.summary()"
   ]
  },
  {
   "cell_type": "code",
   "execution_count": null,
   "id": "94b08683",
   "metadata": {
    "execution": {
     "iopub.execute_input": "2023-08-20T06:07:29.612619Z",
     "iopub.status.busy": "2023-08-20T06:07:29.612134Z",
     "iopub.status.idle": "2023-08-20T06:07:29.636383Z",
     "shell.execute_reply": "2023-08-20T06:07:29.635490Z"
    },
    "papermill": {
     "duration": 0.042544,
     "end_time": "2023-08-20T06:07:29.638853",
     "exception": false,
     "start_time": "2023-08-20T06:07:29.596309",
     "status": "completed"
    },
    "tags": []
   },
   "outputs": [],
   "source": [
    "model.compile(loss=\"mean_squared_error\",optimizer='Adam')"
   ]
  },
  {
   "cell_type": "code",
   "execution_count": null,
   "id": "c79d94f2",
   "metadata": {
    "execution": {
     "iopub.execute_input": "2023-08-20T06:07:29.662947Z",
     "iopub.status.busy": "2023-08-20T06:07:29.662572Z",
     "iopub.status.idle": "2023-08-20T06:07:31.702841Z",
     "shell.execute_reply": "2023-08-20T06:07:31.702015Z"
    },
    "papermill": {
     "duration": 2.055188,
     "end_time": "2023-08-20T06:07:31.705029",
     "exception": false,
     "start_time": "2023-08-20T06:07:29.649841",
     "status": "completed"
    },
    "tags": []
   },
   "outputs": [],
   "source": [
    "model.fit(X_train_scaled,Y_train,epochs=10,validation_split = 0.2)"
   ]
  },
  {
   "cell_type": "code",
   "execution_count": null,
   "id": "868e3b24",
   "metadata": {
    "execution": {
     "iopub.execute_input": "2023-08-20T06:07:31.732135Z",
     "iopub.status.busy": "2023-08-20T06:07:31.731746Z",
     "iopub.status.idle": "2023-08-20T06:07:31.909165Z",
     "shell.execute_reply": "2023-08-20T06:07:31.907892Z"
    },
    "papermill": {
     "duration": 0.194348,
     "end_time": "2023-08-20T06:07:31.912246",
     "exception": false,
     "start_time": "2023-08-20T06:07:31.717898",
     "status": "completed"
    },
    "tags": []
   },
   "outputs": [],
   "source": [
    "y_pred = model.predict(X_test_scaled)"
   ]
  },
  {
   "cell_type": "code",
   "execution_count": null,
   "id": "ee6f1af1",
   "metadata": {
    "execution": {
     "iopub.execute_input": "2023-08-20T06:07:31.940337Z",
     "iopub.status.busy": "2023-08-20T06:07:31.939528Z",
     "iopub.status.idle": "2023-08-20T06:07:31.949216Z",
     "shell.execute_reply": "2023-08-20T06:07:31.947535Z"
    },
    "papermill": {
     "duration": 0.026437,
     "end_time": "2023-08-20T06:07:31.951782",
     "exception": false,
     "start_time": "2023-08-20T06:07:31.925345",
     "status": "completed"
    },
    "tags": []
   },
   "outputs": [],
   "source": [
    "from sklearn.metrics import r2_score\n",
    "r2_score(Y_test,y_pred)"
   ]
  },
  {
   "cell_type": "markdown",
   "id": "3da3cbe9",
   "metadata": {
    "papermill": {
     "duration": 0.012557,
     "end_time": "2023-08-20T06:07:31.977447",
     "exception": false,
     "start_time": "2023-08-20T06:07:31.964890",
     "status": "completed"
    },
    "tags": []
   },
   "source": [
    "At this point the perform of our model is too bad, we can imporove the performance of our model by increase layer in the NN and by increasing epochs"
   ]
  },
  {
   "cell_type": "code",
   "execution_count": null,
   "id": "8e37307e",
   "metadata": {
    "execution": {
     "iopub.execute_input": "2023-08-20T06:07:32.005392Z",
     "iopub.status.busy": "2023-08-20T06:07:32.004281Z",
     "iopub.status.idle": "2023-08-20T06:07:32.057843Z",
     "shell.execute_reply": "2023-08-20T06:07:32.056653Z"
    },
    "papermill": {
     "duration": 0.070207,
     "end_time": "2023-08-20T06:07:32.060398",
     "exception": false,
     "start_time": "2023-08-20T06:07:31.990191",
     "status": "completed"
    },
    "tags": []
   },
   "outputs": [],
   "source": [
    "model.add(Dense(7,activation ='relu',input_dim=7))\n",
    "model.add(Dense(7,activation = 'relu'))\n",
    "model.add(Dense(7,activation = 'relu'))\n",
    "model.add(Dense(1,activation = 'linear'))"
   ]
  },
  {
   "cell_type": "code",
   "execution_count": null,
   "id": "0117edd5",
   "metadata": {
    "execution": {
     "iopub.execute_input": "2023-08-20T06:07:32.088631Z",
     "iopub.status.busy": "2023-08-20T06:07:32.087938Z",
     "iopub.status.idle": "2023-08-20T06:07:32.118022Z",
     "shell.execute_reply": "2023-08-20T06:07:32.116501Z"
    },
    "papermill": {
     "duration": 0.047476,
     "end_time": "2023-08-20T06:07:32.121180",
     "exception": false,
     "start_time": "2023-08-20T06:07:32.073704",
     "status": "completed"
    },
    "tags": []
   },
   "outputs": [],
   "source": [
    "model.summary()"
   ]
  },
  {
   "cell_type": "code",
   "execution_count": null,
   "id": "911b965d",
   "metadata": {
    "execution": {
     "iopub.execute_input": "2023-08-20T06:07:32.151604Z",
     "iopub.status.busy": "2023-08-20T06:07:32.150743Z",
     "iopub.status.idle": "2023-08-20T06:07:32.164721Z",
     "shell.execute_reply": "2023-08-20T06:07:32.163573Z"
    },
    "papermill": {
     "duration": 0.031911,
     "end_time": "2023-08-20T06:07:32.167318",
     "exception": false,
     "start_time": "2023-08-20T06:07:32.135407",
     "status": "completed"
    },
    "tags": []
   },
   "outputs": [],
   "source": [
    "model.compile(loss='mean_squared_error', optimizer='Adam')"
   ]
  },
  {
   "cell_type": "code",
   "execution_count": null,
   "id": "74761a47",
   "metadata": {
    "execution": {
     "iopub.execute_input": "2023-08-20T05:58:43.584022Z",
     "iopub.status.busy": "2023-08-20T05:58:43.583555Z",
     "iopub.status.idle": "2023-08-20T05:58:50.128733Z",
     "shell.execute_reply": "2023-08-20T05:58:50.127240Z",
     "shell.execute_reply.started": "2023-08-20T05:58:43.583985Z"
    },
    "papermill": {
     "duration": null,
     "end_time": null,
     "exception": false,
     "start_time": "2023-08-20T06:07:32.182153",
     "status": "running"
    },
    "tags": []
   },
   "outputs": [],
   "source": [
    "output = model.fit(X_train_scaled, Y_train,epochs=100,validation_split=0.2)"
   ]
  },
  {
   "cell_type": "code",
   "execution_count": null,
   "id": "18c2ba55",
   "metadata": {
    "execution": {
     "iopub.execute_input": "2023-08-20T05:58:58.415046Z",
     "iopub.status.busy": "2023-08-20T05:58:58.414508Z",
     "iopub.status.idle": "2023-08-20T05:58:58.516580Z",
     "shell.execute_reply": "2023-08-20T05:58:58.515239Z",
     "shell.execute_reply.started": "2023-08-20T05:58:58.415005Z"
    },
    "papermill": {
     "duration": null,
     "end_time": null,
     "exception": null,
     "start_time": null,
     "status": "pending"
    },
    "tags": []
   },
   "outputs": [],
   "source": [
    "y_pred= model.predict(X_test_scaled)"
   ]
  },
  {
   "cell_type": "code",
   "execution_count": null,
   "id": "1091deb7",
   "metadata": {
    "execution": {
     "iopub.execute_input": "2023-08-20T05:58:58.893181Z",
     "iopub.status.busy": "2023-08-20T05:58:58.892362Z",
     "iopub.status.idle": "2023-08-20T05:58:58.902306Z",
     "shell.execute_reply": "2023-08-20T05:58:58.900785Z",
     "shell.execute_reply.started": "2023-08-20T05:58:58.893130Z"
    },
    "papermill": {
     "duration": null,
     "end_time": null,
     "exception": null,
     "start_time": null,
     "status": "pending"
    },
    "tags": []
   },
   "outputs": [],
   "source": [
    "from sklearn.metrics import r2_score\n",
    "r2_score(Y_test,y_pred)"
   ]
  },
  {
   "cell_type": "markdown",
   "id": "456c5c20",
   "metadata": {
    "papermill": {
     "duration": null,
     "end_time": null,
     "exception": null,
     "start_time": null,
     "status": "pending"
    },
    "tags": []
   },
   "source": [
    "Now the accuracy of our model has increased fron -1 to 0.79"
   ]
  },
  {
   "cell_type": "code",
   "execution_count": null,
   "id": "116d1e42",
   "metadata": {
    "execution": {
     "iopub.execute_input": "2023-08-20T05:59:35.427678Z",
     "iopub.status.busy": "2023-08-20T05:59:35.426194Z",
     "iopub.status.idle": "2023-08-20T05:59:35.433061Z",
     "shell.execute_reply": "2023-08-20T05:59:35.431880Z",
     "shell.execute_reply.started": "2023-08-20T05:59:35.427631Z"
    },
    "papermill": {
     "duration": null,
     "end_time": null,
     "exception": null,
     "start_time": null,
     "status": "pending"
    },
    "tags": []
   },
   "outputs": [],
   "source": [
    "import matplotlib.pyplot as plt\n"
   ]
  },
  {
   "cell_type": "code",
   "execution_count": null,
   "id": "90545299",
   "metadata": {
    "execution": {
     "iopub.execute_input": "2023-08-20T06:05:10.294755Z",
     "iopub.status.busy": "2023-08-20T06:05:10.294113Z",
     "iopub.status.idle": "2023-08-20T06:05:10.657141Z",
     "shell.execute_reply": "2023-08-20T06:05:10.653922Z",
     "shell.execute_reply.started": "2023-08-20T06:05:10.294709Z"
    },
    "papermill": {
     "duration": null,
     "end_time": null,
     "exception": null,
     "start_time": null,
     "status": "pending"
    },
    "tags": []
   },
   "outputs": [],
   "source": [
    "plt.plot(output.history['loss'])\n",
    "plt.plot(output.history['val_loss'])"
   ]
  },
  {
   "cell_type": "code",
   "execution_count": null,
   "id": "5db3df0e",
   "metadata": {
    "papermill": {
     "duration": null,
     "end_time": null,
     "exception": null,
     "start_time": null,
     "status": "pending"
    },
    "tags": []
   },
   "outputs": [],
   "source": []
  }
 ],
 "metadata": {
  "kernelspec": {
   "display_name": "Python 3",
   "language": "python",
   "name": "python3"
  },
  "language_info": {
   "codemirror_mode": {
    "name": "ipython",
    "version": 3
   },
   "file_extension": ".py",
   "mimetype": "text/x-python",
   "name": "python",
   "nbconvert_exporter": "python",
   "pygments_lexer": "ipython3",
   "version": "3.8.8"
  },
  "papermill": {
   "default_parameters": {},
   "duration": null,
   "end_time": null,
   "environment_variables": {},
   "exception": null,
   "input_path": "__notebook__.ipynb",
   "output_path": "__notebook__.ipynb",
   "parameters": {},
   "start_time": "2023-08-20T06:07:07.731549",
   "version": "2.4.0"
  }
 },
 "nbformat": 4,
 "nbformat_minor": 5
}
